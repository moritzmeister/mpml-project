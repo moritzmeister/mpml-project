{
 "cells": [
  {
   "cell_type": "code",
   "execution_count": 1,
   "metadata": {},
   "outputs": [],
   "source": [
    "import pyspark\n",
    "import numpy as np\n",
    "import pandas as pd\n",
    "import time\n",
    "import sys\n",
    "\n",
    "sc = pyspark.SparkContext('local[*]')"
   ]
  },
  {
   "cell_type": "code",
   "execution_count": 2,
   "metadata": {},
   "outputs": [
    {
     "data": {
      "text/plain": [
       "2"
      ]
     },
     "execution_count": 2,
     "metadata": {},
     "output_type": "execute_result"
    }
   ],
   "source": [
    "sc.defaultParallelism"
   ]
  },
  {
   "cell_type": "code",
   "execution_count": 3,
   "metadata": {},
   "outputs": [],
   "source": [
    "class DataUtil:\n",
    "    def __init__(self, sc, inputPath='data/spam.data.txt', statsInputPath='data/mean_std.txt', standardize=True):\n",
    "        self.inputPath = inputPath\n",
    "        self.standardize = standardize\n",
    "        self.mean_std = pd.read_csv(statsInputPath, delimiter=',', header=None)\n",
    "        self.mean = sc.broadcast(self.mean_std.iloc[:,0].values.astype(float))\n",
    "        self.std = sc.broadcast(self.mean_std.iloc[:,1].values.astype(float))\n",
    "        \n",
    "        \n",
    "    def read(self, sc):\n",
    "        if self.standardize:\n",
    "            return sc.textFile(self.inputPath).map(lambda x: np.asarray(x.split(' ')).astype(float)) \\\n",
    "                    .map(lambda x: (x[:56], x[57])) \\\n",
    "                    .map(lambda x: ((x[0] - self.mean.value[:56])/self.std.value[:56], x[1]))\n",
    "        else:\n",
    "            return sc.textFile(self.inputPath).map(lambda x: np.asarray(x.split(' ')).astype(float)) \\\n",
    "                    .map(lambda x: (x[:56], x[57]))"
   ]
  },
  {
   "cell_type": "code",
   "execution_count": 4,
   "metadata": {},
   "outputs": [
    {
     "name": "stdout",
     "output_type": "stream",
     "text": [
      "Whole dataset: 4601, 56\n",
      "Train dataset: 3675, 56\n",
      "Test dataset: 926, 56\n"
     ]
    }
   ],
   "source": [
    "spam_dataset = DataUtil(sc, 'data/spam.data.txt', 'data/mean_std.txt', True).read(sc)\n",
    "train_set, test_set = spam_dataset.randomSplit(weights=[0.8, 0.2], seed=1)\n",
    "\n",
    "print(\"Whole dataset: {}, {}\".format(spam_dataset.count(), len(spam_dataset.first()[0])))\n",
    "print(\"Train dataset: {}, {}\".format(train_set.count(), len(train_set.first()[0])))\n",
    "print(\"Test dataset: {}, {}\".format(test_set.count(), len(test_set.first()[0])))"
   ]
  },
  {
   "cell_type": "code",
   "execution_count": 5,
   "metadata": {},
   "outputs": [],
   "source": [
    "def sigmoid(z):\n",
    "    return 1 / (1 + np.exp(-z))\n",
    "\n",
    "def cost_function(y, h):\n",
    "    eps = sys.float_info.epsilon\n",
    "    return y * np.log(h + eps) + (1 - y) * np.log(1 - h + eps)\n",
    "\n",
    "def stats(data):\n",
    "    def f(y, pred):\n",
    "        if y == pred:\n",
    "            return 1,0,0,0 if y == 1 else 0,1,0,0\n",
    "        elif pred == 1:\n",
    "            return 0,0,1,0\n",
    "        else:\n",
    "            return 0,0,0,1\n",
    "    tp, tn, fp, fn = data.map(lambda x: f(x[2], x[4])).reduce(lambda a, b: tuple(map(sum, zip(a, b))))\n",
    "    precision = tp / (tp + fp)\n",
    "    recall = tp / (tp + fn)\n",
    "    f1 = 2 * precision * recall / (precision + recall)\n",
    "    accuracy = (tp + tn) / (tp + tn + fp + fn)\n",
    "    return precision, recall, f1, accuracy"
   ]
  },
  {
   "cell_type": "code",
   "execution_count": 6,
   "metadata": {},
   "outputs": [],
   "source": [
    "class ParallelLogReg():\n",
    "    \n",
    "    def __init__(self, data, iterations, learning_rate, lambda_reg):\n",
    "        self.data = data\n",
    "        self.numberObservations = self.data.count()\n",
    "        self.numberFeatures = len(self.data.first()[0])\n",
    "        self.iterations = iterations\n",
    "        self.lr = learning_rate\n",
    "        self.lambda_reg = lambda_reg\n",
    "        \n",
    "    def __add_intercept(self, rdd):\n",
    "        return rdd.map(lambda x: (1, x[0], x[1]))\n",
    "        \n",
    "    def train(self, train_rdd=None, SGD=False, SGD_pct=0.5, threshold=0.5):\n",
    "        eps = sys.float_info.epsilon\n",
    "        \n",
    "        # initialize the weights\n",
    "        # w[0]: bias weight\n",
    "        # w[1]: rest of the weights\n",
    "        w = (0, np.zeros(self.numberFeatures))\n",
    "        \n",
    "        if train_rdd == None:\n",
    "            data = self.__add_intercept(self.data)\n",
    "        else:\n",
    "            data = self.__add_intercept(train_rdd)\n",
    "\n",
    "        # initialize prediction to rdd\n",
    "        # x[0]: bias/intercept\n",
    "        # x[1]: rest features\n",
    "        # x[2]: true y\n",
    "        # adding x[3]: predicted y\n",
    "        data = data.map(lambda x: (x[0], x[1], x[2], sigmoid(w[1].dot(x[1]) + w[0] * x[0])))\n",
    "        numObs = data.count()\n",
    "        \n",
    "        train = data.cache()\n",
    "        \n",
    "        for i in range(self.iterations):\n",
    "            start = time.time()\n",
    "            \n",
    "            # sample for SGD\n",
    "            if SGD:\n",
    "                train = data.sample(False, SGD_pct).repartition(sc.defaultParallelism).cache()\n",
    "                if i == 0:\n",
    "                    numObs = train.count()\n",
    "            \n",
    "            # compute derivatives\n",
    "            temp = train.map(lambda x: ((x[3] - x[2]) * x[0], (x[3] - x[2]) * x[1])) \\\n",
    "                       .reduce(lambda a,b: (a[0] + b[0], a[1] + b[1]))\n",
    "            dw = (temp[0]/numObs, (temp[1]/numObs) + (self.lambda_reg/numObs) * w[1])\n",
    "            \n",
    "            # update weights\n",
    "            w = (w[0] - self.lr * dw[0], w[1] - self.lr * dw[1])\n",
    "            \n",
    "            # update prediction\n",
    "            train = train.map(lambda x: (x[0], x[1], x[2], sigmoid(w[1].dot(x[1]) + w[0] * x[0]))).cache()\n",
    "            \n",
    "            if (i%10 == 0):\n",
    "                end = time.time()\n",
    "                \n",
    "                model_stats = self.validate(train, w, add_intercept=False)\n",
    "\n",
    "                print(\"Iteration: \" + str(i) + \", Total Time: \" + str(end - start))\n",
    "                print('Precision: {}, Recall: {}, F1: {}, Accuracy: {}'.format(model_stats['precision'], model_stats['recall'], model_stats['f1'], model_stats['accuracy']))\n",
    "                print('Current loss: {}\\n'.format(model_stats['loss']))\n",
    "                \n",
    "        model_stats = self.validate(data, w, add_intercept=False)\n",
    "        \n",
    "        print('Training stats:')\n",
    "        print('Precision: {}, Recall: {}, F1: {}, Accuracy: {}'.format(model_stats['precision'], model_stats['recall'], model_stats['f1'], model_stats['accuracy']))\n",
    "        print('Final training loss: {}\\n'.format(model_stats['loss']))\n",
    "            \n",
    "        return {**model_stats, 'w': w}\n",
    "    \n",
    "    def validate(self, val_rdd, w, threshold=0.5, add_intercept=True):\n",
    "        if add_intercept:\n",
    "            val_rdd = self.__add_intercept(val_rdd)\n",
    "        \n",
    "        numObs = val_rdd.count()\n",
    "        \n",
    "        # update prediction\n",
    "        val_rdd = val_rdd.map(lambda x: (x[0], x[1], x[2], sigmoid(w[1].dot(x[1]) + w[0] * x[0])))\n",
    "        \n",
    "        loss = val_rdd.map(lambda x: cost_function(x[2], x[3])) \\\n",
    "                    .reduce(lambda a,b: a + b)\n",
    "        loss = -(1/numObs) * loss + (self.lambda_reg/(2*numObs)) * np.sum(w[1]**2)\n",
    "        \n",
    "        # calculate stats\n",
    "        val_rdd = val_rdd.map(lambda x: (x[0], x[1], x[2], x[3], 1 if x[3] >= threshold else 0)).cache()\n",
    "        precision, recall, f1, accuracy = stats(val_rdd)\n",
    "        return {'loss': loss, 'precision': precision, 'recall': recall, 'f1': f1, 'accuracy': accuracy}\n",
    "    \n",
    "    def cross_validate(self, k, SGD=False, SGD_pct = 0.5):\n",
    "        \n",
    "        if k == 1:\n",
    "            print(\"Please choose a k > 1. Or use regular train function\")\n",
    "            return\n",
    "        \n",
    "        dataWithIndex = self.data.zipWithIndex();\n",
    "        \n",
    "        model_stats = []\n",
    "        models = []\n",
    "        \n",
    "        for i in range(k):\n",
    "            print(\"Fold: \" + str(i))\n",
    "            \n",
    "            fold = dataWithIndex.filter(lambda x: x[1] % k != i).repartition(sc.defaultParallelism) \\\n",
    "                                .map(lambda x: x[0])\n",
    "            \n",
    "            model = self.train(fold, SGD, SGD_pct)\n",
    "            models.append(model)\n",
    "            \n",
    "            val = dataWithIndex.filter(lambda x: x[1] % k == i).repartition(sc.defaultParallelism) \\\n",
    "                                .map(lambda x: x[0])\n",
    "            \n",
    "            val_stats = self.validate(val, model['w'])\n",
    "            model_stats.append(val_stats)\n",
    "            print('Validation stats:')\n",
    "            print('Precision: {}, Recall: {}, F1: {}, Accuracy: {}'.format(val_stats['precision'], val_stats['recall'], val_stats['f1'], val_stats['accuracy']))\n",
    "            print('Loss: {}\\n'.format(val_stats['loss']))\n",
    "\n",
    "        avg_model_stats = {}\n",
    "        for key in model_stats[0].keys():\n",
    "            avg_model_stats['avg_' + key] = sum(stat[key] for stat in model_stats) / len(model_stats)\n",
    "\n",
    "        print('Averaged validation stats:')\n",
    "        print('Precision: {}, Recall: {}, F1: {}, Accuracy: {}'.format(avg_model_stats['avg_precision'], avg_model_stats['avg_recall'], avg_model_stats['avg_f1'], avg_model_stats['avg_accuracy']))\n",
    "        print('Loss: {}'.format(avg_model_stats['avg_loss']))"
   ]
  },
  {
   "cell_type": "code",
   "execution_count": 31,
   "metadata": {},
   "outputs": [],
   "source": [
    "logReg = ParallelLogReg(data=train_set, iterations=50, learning_rate=0.1, lambda_reg=300)"
   ]
  },
  {
   "cell_type": "code",
   "execution_count": 32,
   "metadata": {},
   "outputs": [
    {
     "name": "stdout",
     "output_type": "stream",
     "text": [
      "Fold: 0\n",
      "Iteration: 0, Total Time: 0.15577244758605957\n",
      "Precision: 0.941609977324263, Recall: 0.9579008073817762, F1: 0.949685534591195, Accuracy: 0.9041916167664671\n",
      "Current loss: 0.6480631987559956\n",
      "\n",
      "Iteration: 10, Total Time: 0.17256736755371094\n",
      "Precision: 0.953062392673154, Recall: 0.9487179487179487, F1: 0.950885208452313, Accuracy: 0.9063690800217746\n",
      "Current loss: 0.49338804081386234\n",
      "\n",
      "Iteration: 20, Total Time: 0.17585110664367676\n",
      "Precision: 0.9585730724971231, Recall: 0.9439093484419263, F1: 0.9511846988295746, Accuracy: 0.9069134458356015\n",
      "Current loss: 0.464560669047611\n",
      "\n",
      "Iteration: 30, Total Time: 0.16466712951660156\n",
      "Precision: 0.9611594202898551, Recall: 0.9367231638418079, F1: 0.9487839771101574, Accuracy: 0.9025585193249864\n",
      "Current loss: 0.45536512999974565\n",
      "\n",
      "Iteration: 40, Total Time: 0.17987751960754395\n",
      "Precision: 0.9621432731508445, Recall: 0.9322799097065463, F1: 0.946976210948696, Accuracy: 0.899292324442025\n",
      "Current loss: 0.45139675760077885\n",
      "\n",
      "Training stats:\n",
      "Precision: 0.965597667638484, Recall: 0.9313835770528683, F1: 0.9481820784425994, Accuracy: 0.9014697876973327\n",
      "Final training loss: 0.44945792513012445\n",
      "\n",
      "Validation stats:\n",
      "Precision: 0.9687131050767415, Recall: 0.9193277310924369, F1: 0.9433745329117561, Accuracy: 0.8928182807399347\n",
      "Loss: 0.45918106726959124\n",
      "\n",
      "Fold: 1\n",
      "Iteration: 0, Total Time: 0.14293336868286133\n",
      "Precision: 0.9437751004016064, Recall: 0.9454022988505747, F1: 0.9445879988515646, Accuracy: 0.8949945593035908\n",
      "Current loss: 0.6508542514392013\n",
      "\n",
      "Iteration: 10, Total Time: 0.17905807495117188\n",
      "Precision: 0.9559420289855073, Recall: 0.9358683314415437, F1: 0.9457986808144537, Accuracy: 0.897170837867247\n",
      "Current loss: 0.497721268135038\n",
      "\n",
      "Iteration: 20, Total Time: 0.22704792022705078\n",
      "Precision: 0.9621653084982538, Recall: 0.9323181049069373, F1: 0.9470065883700945, Accuracy: 0.8993471164309031\n",
      "Current loss: 0.46855356387790864\n",
      "\n",
      "Iteration: 30, Total Time: 0.18178319931030273\n",
      "Precision: 0.9684947491248541, Recall: 0.9304932735426009, F1: 0.9491137793024584, Accuracy: 0.9031556039173014\n",
      "Current loss: 0.4595231366694849\n",
      "\n",
      "Iteration: 40, Total Time: 0.15126538276672363\n",
      "Precision: 0.9706572769953051, Recall: 0.9250559284116331, F1: 0.9473081328751431, Accuracy: 0.8998911860718172\n",
      "Current loss: 0.45574152654425837\n",
      "\n",
      "Training stats:\n",
      "Precision: 0.9711425206124853, Recall: 0.9217439910564561, F1: 0.9457986808144537, Accuracy: 0.897170837867247\n",
      "Final training loss: 0.4539229145858672\n",
      "\n",
      "Validation stats:\n",
      "Precision: 0.965597667638484, Recall: 0.9313835770528683, F1: 0.9481820784425994, Accuracy: 0.9014697876973327\n",
      "Loss: 0.455428515083962\n",
      "\n",
      "Averaged validation stats:\n",
      "Precision: 0.9671553863576128, Recall: 0.9253556540726526, F1: 0.9457783056771778, Accuracy: 0.8971440342186336\n",
      "Loss: 0.4573047911767766\n"
     ]
    }
   ],
   "source": [
    "logReg.cross_validate(2)"
   ]
  },
  {
   "cell_type": "code",
   "execution_count": 33,
   "metadata": {},
   "outputs": [
    {
     "name": "stdout",
     "output_type": "stream",
     "text": [
      "Iteration: 0, Total Time: 0.677819013595581\n",
      "Precision: 0.9399373754625676, Recall: 0.9532332563510393, F1: 0.9465386269170131, Accuracy: 0.8985034013605442\n",
      "Current loss: 0.6494327684151125\n",
      "\n",
      "Iteration: 10, Total Time: 0.18222594261169434\n",
      "Precision: 0.9535150645624103, Recall: 0.9459151722174779, F1: 0.9496999142612174, Accuracy: 0.90421768707483\n",
      "Current loss: 0.4760169922926443\n",
      "\n",
      "Iteration: 20, Total Time: 0.19081568717956543\n",
      "Precision: 0.9582132564841499, Recall: 0.9419263456090652, F1: 0.9500000000000001, Accuracy: 0.9047619047619048\n",
      "Current loss: 0.4327974887610755\n",
      "\n",
      "Iteration: 30, Total Time: 0.23614120483398438\n",
      "Precision: 0.9621168305378832, Recall: 0.9387697516930023, F1: 0.950299914310197, Accuracy: 0.9053061224489796\n",
      "Current loss: 0.41616010249959595\n",
      "\n",
      "Iteration: 40, Total Time: 0.18167829513549805\n",
      "Precision: 0.9655072463768116, Recall: 0.936726659167604, F1: 0.9508992292320867, Accuracy: 0.9063945578231293\n",
      "Current loss: 0.4083520026880451\n",
      "\n",
      "Training stats:\n",
      "Precision: 0.9666376559326951, Recall: 0.9359550561797753, F1: 0.951048951048951, Accuracy: 0.9066666666666666\n",
      "Final training loss: 0.40453099582225777\n",
      "\n"
     ]
    }
   ],
   "source": [
    "model = logReg.train()"
   ]
  },
  {
   "cell_type": "code",
   "execution_count": 34,
   "metadata": {},
   "outputs": [
    {
     "data": {
      "text/plain": [
       "{'loss': 0.6036606155393682,\n",
       " 'precision': 0.9436619718309859,\n",
       " 'recall': 0.9157175398633257,\n",
       " 'f1': 0.9294797687861273,\n",
       " 'accuracy': 0.8682505399568035}"
      ]
     },
     "execution_count": 34,
     "metadata": {},
     "output_type": "execute_result"
    }
   ],
   "source": [
    "logReg.validate(test_set, model['w'])"
   ]
  },
  {
   "cell_type": "code",
   "execution_count": null,
   "metadata": {},
   "outputs": [],
   "source": []
  }
 ],
 "metadata": {
  "kernelspec": {
   "display_name": "Python 3",
   "language": "python",
   "name": "python3"
  },
  "language_info": {
   "codemirror_mode": {
    "name": "ipython",
    "version": 3
   },
   "file_extension": ".py",
   "mimetype": "text/x-python",
   "name": "python",
   "nbconvert_exporter": "python",
   "pygments_lexer": "ipython3",
   "version": "3.6.6"
  }
 },
 "nbformat": 4,
 "nbformat_minor": 2
}
