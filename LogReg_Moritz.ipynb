{
 "cells": [
  {
   "cell_type": "code",
   "execution_count": 1,
   "metadata": {},
   "outputs": [],
   "source": [
    "import pyspark\n",
    "import numpy as np\n",
    "from DataUtils import DataUtil\n",
    "import time\n",
    "import sys\n",
    "\n",
    "sc = pyspark.SparkContext('local[4]')"
   ]
  },
  {
   "cell_type": "code",
   "execution_count": 2,
   "metadata": {},
   "outputs": [
    {
     "data": {
      "text/plain": [
       "4"
      ]
     },
     "execution_count": 2,
     "metadata": {},
     "output_type": "execute_result"
    }
   ],
   "source": [
    "sc.defaultParallelism"
   ]
  },
  {
   "cell_type": "code",
   "execution_count": 3,
   "metadata": {},
   "outputs": [],
   "source": [
    "dataUtil = DataUtil(sc, 'data/spam.data.txt', 'data/mean_std.txt', True)\n",
    "rdd = dataUtil.read(sc)"
   ]
  },
  {
   "cell_type": "code",
   "execution_count": 7,
   "metadata": {},
   "outputs": [],
   "source": [
    "def stats(data):\n",
    "    def f(y, pred):\n",
    "        if y == pred:\n",
    "            return 1,0,0,0 if y == 1 else 0,1,0,0\n",
    "        elif pred == 1:\n",
    "            return 0,0,1,0\n",
    "        else:\n",
    "            return 0,0,0,1\n",
    "    tp, tn, fp, fn = data.map(lambda x: f(x[2], x[4])).reduce(lambda a, b: tuple(map(sum, zip(a, b))))\n",
    "    precision = tp / (tp + fp)\n",
    "    recall = tp / (tp + fn)\n",
    "    f1 = 2 * precision * recall / (precision + recall)\n",
    "    accuracy = (tp + tn) / (tp + tn + fp + fn)\n",
    "    return precision, recall, f1, accuracy\n",
    "\n",
    "class ParallelLogReg():\n",
    "    \n",
    "    def __init__(self, sc, dataUtils, iterations, learning_rate, lambda_reg, fit_intercept):\n",
    "        self.dataUtils = dataUtils\n",
    "        # do we need to broadcast these?\n",
    "        self.iterations = iterations\n",
    "        self.lr = learning_rate\n",
    "        self.lambda_reg = lambda_reg\n",
    "        self.fit_intercept = fit_intercept\n",
    "        self.data = self.dataUtils.read(sc)\n",
    "        self.numberObservations = self.data.count()\n",
    "        self.numberFeatures = 56\n",
    "        self.sc = sc\n",
    "        \n",
    "    def __add_intercept(self):\n",
    "        self.data = self.data.map(lambda x: (1, x[0], x[1]))\n",
    "    \n",
    "    def __sigmoid(self, z):\n",
    "        return 1 / (1 + np.exp(-z))\n",
    "    \n",
    "    def __predict_y(self, w, x):\n",
    "        return self.__sigmoid(w[1].dot(x[1]) + w[0] * x[0])\n",
    "    \n",
    "    def calculateLoss(self):\n",
    "        return 1\n",
    "        \n",
    "    def train(self, SGD=False, SGD_pct=0.5):\n",
    "        self.__add_intercept()\n",
    "        \n",
    "        # initialize the weights\n",
    "        # w[0]: bias weight\n",
    "        # w[1]: rest of the weights\n",
    "        w = (0, np.zeros(self.numberFeatures))\n",
    "        loss = 0\n",
    "        \n",
    "        # initialize prediction to rdd\n",
    "        # x[0]: bias/intercept\n",
    "        # x[1]: rest features\n",
    "        # x[2]: true y\n",
    "        # adding x[3]: predicted y\n",
    "        self.data = self.data.map(lambda x: (x[0], x[1], x[2], 1 / (1 + np.exp(-(w[1].dot(x[1]) + w[0] * x[0])))))\n",
    "        \n",
    "        data = self.data.cache()\n",
    "        \n",
    "        for i in range(self.iterations):\n",
    "            start = time.time()\n",
    "            \n",
    "            # sample for SGD\n",
    "            if SGD:\n",
    "                data = self.data.sample(False, SGD_pct).repartition(4).cache()\n",
    "                if (i==0):\n",
    "                    self.numberObservations = data.count()\n",
    "            \n",
    "            # compute derivatives\n",
    "            temp = data.map(lambda x: ((x[3] - x[2]) * x[0], (x[3] - x[2]) * x[1])) \\\n",
    "                       .reduce(lambda a,b: (a[0] + b[0], a[1] + b[1]))\n",
    "            dw = (temp[0]/self.numberObservations, (temp[1]/self.numberObservations) + (self.lambda_reg/self.numberObservations) * w[1])\n",
    "            \n",
    "            # update weights\n",
    "            w = (w[0] - self.lr * dw[0], w[1] - self.lr * dw[1])\n",
    "            \n",
    "            # update prediction\n",
    "            data = data.map(lambda x: (x[0], x[1], x[2], 1 / (1 + np.exp(-(w[1].dot(x[1]) + w[0] * x[0]))))).cache()\n",
    "            \n",
    "            # calculate loss\n",
    "            loss = data.map(lambda x: x[2] * np.log(x[3]+sys.float_info.epsilon) + (1 - x[2]) * np.log(1 - x[3]+sys.float_info.epsilon)) \\\n",
    "                                 .reduce(lambda a,b: a + b)\n",
    "            loss = -(1/self.numberObservations) * loss + (self.lambda_reg/(2*self.numberObservations)) * np.sum(w[1]**2)\n",
    "            \n",
    "            if (i%10 == 0):\n",
    "                print(\"Current loss: \" + str(loss))\n",
    "                end = time.time()\n",
    "                print(\"Iteration: \" + str(i) + \", Total Time: \" + str(end - start))\n",
    "                \n",
    "        # calculate prediction for entire data set\n",
    "        self.data = self.data.map(lambda x: (x[0], x[1], x[2], 1 / (1 + np.exp(-(w[1].dot(x[1]) + w[0] * x[0])))))\n",
    "        \n",
    "        # update loss for entire data set\n",
    "        self.numberObservations = self.data.count()\n",
    "        loss = self.data.map(lambda x: x[2] * np.log(x[3]+sys.float_info.epsilon) + (1 - x[2]) * np.log(1 - x[3]+sys.float_info.epsilon)) \\\n",
    "                   .reduce(lambda a,b: a + b)\n",
    "        self.loss = -(1/self.numberObservations) * loss + (self.lambda_reg/(2*self.numberObservations)) * np.sum(w[1]**2)\n",
    "        \n",
    "        # add the predicted class        \n",
    "        self.data = self.data.map(lambda x: (x[0], x[1], x[2], x[3], 1 if x[3] >= 0.5 else 0))\n",
    "        \n",
    "        # calculate accuracy\n",
    "        self.acc = self.data.map(lambda x: 1 if x[2] == x[4] else 0) \\\n",
    "                            .reduce(lambda a,b: a+b) / self.numberObservations\n",
    "        \n",
    "        print(\"Final loss: \" + str(self.loss) + \", Accuracy: \" + str(self.acc))\n",
    "            \n",
    "        return w\n",
    "            "
   ]
  },
  {
   "cell_type": "code",
   "execution_count": 13,
   "metadata": {},
   "outputs": [],
   "source": [
    "logReg = ParallelLogReg(sc, dataUtil, 100, 0.1, 0.1, True)"
   ]
  },
  {
   "cell_type": "code",
   "execution_count": 14,
   "metadata": {},
   "outputs": [
    {
     "name": "stdout",
     "output_type": "stream",
     "text": [
      "Current loss: 0.6480574381644949\n",
      "Iteration: 0, Total Time: 1.448368787765503\n",
      "Current loss: 0.40873724508468856\n",
      "Iteration: 10, Total Time: 0.5865907669067383\n",
      "Current loss: 0.3399603086422459\n",
      "Iteration: 20, Total Time: 1.0011682510375977\n",
      "Current loss: 0.31873196836204354\n",
      "Iteration: 30, Total Time: 0.7110292911529541\n",
      "Current loss: 0.33717673144534666\n",
      "Iteration: 40, Total Time: 0.9815123081207275\n",
      "Current loss: 0.3814004671164082\n",
      "Iteration: 50, Total Time: 0.9757053852081299\n",
      "Current loss: 0.4270971917281332\n",
      "Iteration: 60, Total Time: 0.8669543266296387\n",
      "Current loss: 0.4527522162739007\n",
      "Iteration: 70, Total Time: 1.4324626922607422\n",
      "Current loss: 0.4419625116681218\n",
      "Iteration: 80, Total Time: 1.1977989673614502\n",
      "Current loss: 0.5277012771596729\n",
      "Iteration: 90, Total Time: 0.871208906173706\n",
      "Final loss: 0.5925931925809359, Accuracy: 0.8935014127363616\n"
     ]
    },
    {
     "data": {
      "text/plain": [
       "(-1.056916594013368,\n",
       " array([ 0.61584525, -0.14700108,  0.96454595,  0.28037466,  1.17827348,\n",
       "         1.14019143,  1.62941519,  1.01852337,  1.13441437,  0.67132225,\n",
       "         1.15083813,  0.03409795,  0.65077049,  0.29702202,  0.95767808,\n",
       "         1.2916392 ,  1.2894909 ,  1.00308759,  1.33622548,  0.92630158,\n",
       "         1.87860037,  0.45182034,  1.63868107,  1.06376794, -1.26175842,\n",
       "        -1.14562466, -0.89812088, -0.78006939, -0.65711402, -0.83970763,\n",
       "        -0.62536864, -0.56489974, -0.58483254, -0.55775391, -0.73277265,\n",
       "        -0.67433107, -0.87350633, -0.15009507, -0.59918394, -0.32105646,\n",
       "        -0.47252246, -0.6730957 , -0.66515936, -0.46167395, -0.68948029,\n",
       "        -0.70849883, -0.22445532, -0.41522308, -0.29133626, -0.43790079,\n",
       "        -0.31639737,  1.18226932,  1.58151289,  0.32425645,  0.54229684,\n",
       "         1.06275954]))"
      ]
     },
     "execution_count": 14,
     "metadata": {},
     "output_type": "execute_result"
    }
   ],
   "source": [
    "logReg.train(True, 0.75)"
   ]
  },
  {
   "cell_type": "code",
   "execution_count": 10,
   "metadata": {},
   "outputs": [
    {
     "data": {
      "text/plain": [
       "0.8930667246250815"
      ]
     },
     "execution_count": 10,
     "metadata": {},
     "output_type": "execute_result"
    }
   ],
   "source": [
    "logReg.acc"
   ]
  },
  {
   "cell_type": "code",
   "execution_count": null,
   "metadata": {},
   "outputs": [],
   "source": []
  }
 ],
 "metadata": {
  "kernelspec": {
   "display_name": "Python 3",
   "language": "python",
   "name": "python3"
  },
  "language_info": {
   "codemirror_mode": {
    "name": "ipython",
    "version": 3
   },
   "file_extension": ".py",
   "mimetype": "text/x-python",
   "name": "python",
   "nbconvert_exporter": "python",
   "pygments_lexer": "ipython3",
   "version": "3.6.6"
  }
 },
 "nbformat": 4,
 "nbformat_minor": 2
}
