{
 "cells": [
  {
   "cell_type": "code",
   "execution_count": 1,
   "metadata": {},
   "outputs": [],
   "source": [
    "import pyspark\n",
    "import numpy as np\n",
    "import pandas as pd\n",
    "import time\n",
    "import sys\n",
    "\n",
    "sc = pyspark.SparkContext('local[*]')"
   ]
  },
  {
   "cell_type": "code",
   "execution_count": 2,
   "metadata": {},
   "outputs": [
    {
     "data": {
      "text/plain": [
       "2"
      ]
     },
     "execution_count": 2,
     "metadata": {},
     "output_type": "execute_result"
    }
   ],
   "source": [
    "sc.defaultParallelism"
   ]
  },
  {
   "cell_type": "code",
   "execution_count": 3,
   "metadata": {},
   "outputs": [],
   "source": [
    "class DataUtil:\n",
    "    def __init__(self, sc, inputPath='data/spam.data.txt', statsInputPath='data/mean_std.txt', standardize=True):\n",
    "        self.inputPath = inputPath\n",
    "        self.standardize = standardize\n",
    "        self.mean_std = pd.read_csv(statsInputPath, delimiter=',', header=None)\n",
    "        self.mean = sc.broadcast(self.mean_std.iloc[:,0].values.astype(float))\n",
    "        self.std = sc.broadcast(self.mean_std.iloc[:,1].values.astype(float))\n",
    "        \n",
    "        \n",
    "    def read(self, sc):\n",
    "        if self.standardize:\n",
    "            return sc.textFile(self.inputPath).map(lambda x: np.asarray(x.split(' ')).astype(float)) \\\n",
    "                    .map(lambda x: (x[:56], x[57])) \\\n",
    "                    .map(lambda x: ((x[0] - self.mean.value[:56])/self.std.value[:56], x[1]))\n",
    "        else:\n",
    "            return sc.textFile(self.inputPath).map(lambda x: np.asarray(x.split(' ')).astype(float)) \\\n",
    "                    .map(lambda x: (x[:56], x[57]))"
   ]
  },
  {
   "cell_type": "code",
   "execution_count": 4,
   "metadata": {},
   "outputs": [
    {
     "data": {
      "text/plain": [
       "4601"
      ]
     },
     "execution_count": 4,
     "metadata": {},
     "output_type": "execute_result"
    }
   ],
   "source": [
    "dataUtil = DataUtil(sc, 'data/spam.data.txt', 'data/mean_std.txt', True)\n",
    "rdd = dataUtil.read(sc)\n",
    "rdd.count()"
   ]
  },
  {
   "cell_type": "code",
   "execution_count": 5,
   "metadata": {},
   "outputs": [],
   "source": [
    "def sigmoid(z):\n",
    "    return 1 / (1 + np.exp(-z))\n",
    "\n",
    "def cost_function(y, h):\n",
    "    eps = sys.float_info.epsilon\n",
    "    return y * np.log(h + eps) + (1 - y) * np.log(1 - h + eps)\n",
    "\n",
    "def stats(data):\n",
    "    def f(y, pred):\n",
    "        if y == pred:\n",
    "            return 1,0,0,0 if y == 1 else 0,1,0,0\n",
    "        elif pred == 1:\n",
    "            return 0,0,1,0\n",
    "        else:\n",
    "            return 0,0,0,1\n",
    "    tp, tn, fp, fn = data.map(lambda x: f(x[2], x[4])).reduce(lambda a, b: tuple(map(sum, zip(a, b))))\n",
    "    precision = tp / (tp + fp)\n",
    "    recall = tp / (tp + fn)\n",
    "    f1 = 2 * precision * recall / (precision + recall)\n",
    "    accuracy = (tp + tn) / (tp + tn + fp + fn)\n",
    "    return precision, recall, f1, accuracy"
   ]
  },
  {
   "cell_type": "code",
   "execution_count": 9,
   "metadata": {},
   "outputs": [],
   "source": [
    "class ParallelLogReg():\n",
    "    \n",
    "    def __init__(self, data, iterations, learning_rate, lambda_reg):\n",
    "        self.data = data\n",
    "        self.numberObservations = self.data.count()\n",
    "        self.numberFeatures = len(self.data.first()[0])\n",
    "        self.iterations = iterations\n",
    "        self.lr = learning_rate\n",
    "        self.lambda_reg = lambda_reg\n",
    "        \n",
    "    def __add_intercept(self, rdd):\n",
    "        return rdd.map(lambda x: (1, x[0], x[1]))\n",
    "        \n",
    "    def train(self, train_rdd=None, SGD=False, SGD_pct=0.5, threshold=0.5):\n",
    "        eps = sys.float_info.epsilon\n",
    "        \n",
    "        # initialize the weights\n",
    "        # w[0]: bias weight\n",
    "        # w[1]: rest of the weights\n",
    "        w = (0, np.zeros(self.numberFeatures))\n",
    "        \n",
    "        if train_rdd == None:\n",
    "            data = self.__add_intercept(self.data)\n",
    "        else:\n",
    "            data = self.__add_intercept(train_rdd)\n",
    "\n",
    "        # initialize prediction to rdd\n",
    "        # x[0]: bias/intercept\n",
    "        # x[1]: rest features\n",
    "        # x[2]: true y\n",
    "        # adding x[3]: predicted y\n",
    "        data = data.map(lambda x: (x[0], x[1], x[2], sigmoid(w[1].dot(x[1]) + w[0] * x[0])))\n",
    "        numObs = data.count()\n",
    "        \n",
    "        train = data.cache()\n",
    "        \n",
    "        for i in range(self.iterations):\n",
    "            start = time.time()\n",
    "            \n",
    "            # sample for SGD\n",
    "            if SGD:\n",
    "                train = data.sample(False, SGD_pct).repartition(sc.defaultParallelism).cache()\n",
    "                if i == 0:\n",
    "                    numObs = train.count()\n",
    "            \n",
    "            # compute derivatives\n",
    "            temp = train.map(lambda x: ((x[3] - x[2]) * x[0], (x[3] - x[2]) * x[1])) \\\n",
    "                       .reduce(lambda a,b: (a[0] + b[0], a[1] + b[1]))\n",
    "            dw = (temp[0]/numObs, (temp[1]/numObs) + (self.lambda_reg/numObs) * w[1])\n",
    "            \n",
    "            # update weights\n",
    "            w = (w[0] - self.lr * dw[0], w[1] - self.lr * dw[1])\n",
    "            \n",
    "            # update prediction\n",
    "            train = train.map(lambda x: (x[0], x[1], x[2], sigmoid(w[1].dot(x[1]) + w[0] * x[0]))).cache()\n",
    "            \n",
    "            if (i%10 == 0):\n",
    "                end = time.time()\n",
    "                \n",
    "                model_stats = self.validate(train, w, add_intercept=False)\n",
    "\n",
    "                print(\"Iteration: \" + str(i) + \", Total Time: \" + str(end - start))\n",
    "                print('Precision: {}, Recall: {}, F1: {}, Accuracy: {}'.format(model_stats['precision'], model_stats['recall'], model_stats['f1'], model_stats['accuracy']))\n",
    "                print('Current loss: {}\\n'.format(model_stats['loss']))\n",
    "                \n",
    "        model_stats = self.validate(data, w, add_intercept=False)\n",
    "        \n",
    "        print('Training stats:')\n",
    "        print('Precision: {}, Recall: {}, F1: {}, Accuracy: {}'.format(model_stats['precision'], model_stats['recall'], model_stats['f1'], model_stats['accuracy']))\n",
    "        print('Final training loss: {}\\n'.format(model_stats['loss']))\n",
    "            \n",
    "        return {**model_stats, 'w': w}\n",
    "    \n",
    "    def validate(self, val_rdd, w, threshold=0.5, add_intercept=True):\n",
    "        if add_intercept:\n",
    "            val_rdd = self.__add_intercept(val_rdd)\n",
    "        \n",
    "        numObs = val_rdd.count()\n",
    "        \n",
    "        # update prediction\n",
    "        val_rdd = val_rdd.map(lambda x: (x[0], x[1], x[2], sigmoid(w[1].dot(x[1]) + w[0] * x[0])))\n",
    "        \n",
    "        loss = val_rdd.map(lambda x: cost_function(x[2], x[3])) \\\n",
    "                    .reduce(lambda a,b: a + b)\n",
    "        loss = -(1/numObs) * loss + (self.lambda_reg/(2*numObs)) * np.sum(w[1]**2)\n",
    "        \n",
    "        # calculate stats\n",
    "        val_rdd = val_rdd.map(lambda x: (x[0], x[1], x[2], x[3], 1 if x[3] >= threshold else 0)).cache()\n",
    "        precision, recall, f1, accuracy = stats(val_rdd)\n",
    "        return {'loss': loss, 'precision': precision, 'recall': recall, 'f1': f1, 'accuracy': accuracy}\n",
    "    \n",
    "    def cross_validate(self, k, SGD=False, SGD_pct = 0.5):\n",
    "        \n",
    "        if k == 1:\n",
    "            print(\"Please choose a k > 1. Or use regular train function\")\n",
    "            return\n",
    "        \n",
    "        dataWithIndex = self.data.zipWithIndex();\n",
    "        \n",
    "        model_stats = []\n",
    "        models = []\n",
    "        \n",
    "        for i in range(k):\n",
    "            print(\"Fold: \" + str(i))\n",
    "            \n",
    "            fold = dataWithIndex.filter(lambda x: x[1] % k != i).repartition(sc.defaultParallelism) \\\n",
    "                                .map(lambda x: x[0])\n",
    "            \n",
    "            model = self.train(fold, SGD, SGD_pct)\n",
    "            models.append(model)\n",
    "            \n",
    "            val = dataWithIndex.filter(lambda x: x[1] % k == i).repartition(sc.defaultParallelism) \\\n",
    "                                .map(lambda x: x[0])\n",
    "            \n",
    "            val_stats = self.validate(val, model['w'])\n",
    "            model_stats.append(val_stats)\n",
    "            print('\\nValidation stats:')\n",
    "            print('Precision: {}, Recall: {}, F1: {}, Accuracy: {}'.format(val_stats['precision'], val_stats['recall'], val_stats['f1'], val_stats['accuracy']))\n",
    "            print('Loss: {}\\n'.format(val_stats['loss']))\n",
    "\n",
    "        avg_model_stats = {}\n",
    "        for key in model_stats[0].keys():\n",
    "            avg_model_stats['avg_' + key] = sum(stat[key] for stat in model_stats) / len(model_stats)\n",
    "\n",
    "        print('Averaged validation stats:')\n",
    "        print('Precision: {}, Recall: {}, F1: {}, Accuracy: {}'.format(avg_model_stats['avg_precision'], avg_model_stats['avg_recall'], avg_model_stats['avg_f1'], avg_model_stats['avg_accuracy']))\n",
    "        print('Loss: {}'.format(avg_model_stats['avg_loss']))"
   ]
  },
  {
   "cell_type": "code",
   "execution_count": 10,
   "metadata": {},
   "outputs": [],
   "source": [
    "logReg = ParallelLogReg(data=rdd, iterations=20, learning_rate=0.1, lambda_reg=0.1)"
   ]
  },
  {
   "cell_type": "code",
   "execution_count": 11,
   "metadata": {},
   "outputs": [
    {
     "name": "stdout",
     "output_type": "stream",
     "text": [
      "Iteration: 0, Total Time: 0.6018731594085693\n",
      "Precision: 0.9370725034199726, Recall: 0.9502890173410404, F1: 0.9436344851337389, Accuracy: 0.8932840686807216\n",
      "Current loss: 0.6503220242271294\n",
      "\n",
      "Iteration: 10, Total Time: 0.2959308624267578\n",
      "Precision: 0.9489772466099747, Recall: 0.9429093400319708, F1: 0.9459335624284078, Accuracy: 0.8974136057378831\n",
      "Current loss: 0.4581797205838391\n",
      "\n",
      "Training stats:\n",
      "Precision: 0.9527104959630911, Recall: 0.9394904458598726, F1: 0.9460542893139389, Accuracy: 0.8976309497935231\n",
      "Final training loss: 0.3978590235323393\n",
      "\n"
     ]
    },
    {
     "data": {
      "text/plain": [
       "{'loss': 0.3978590235323393,\n",
       " 'precision': 0.9527104959630911,\n",
       " 'recall': 0.9394904458598726,\n",
       " 'f1': 0.9460542893139389,\n",
       " 'accuracy': 0.8976309497935231,\n",
       " 'w': (-0.16846390920849122,\n",
       "  array([ 0.04161319, -0.0235643 ,  0.09330902,  0.03924626,  0.14085123,\n",
       "          0.12141658,  0.20443337,  0.11736477,  0.11807889,  0.06668334,\n",
       "          0.10965589, -0.01883552,  0.05827087,  0.02834613,  0.09633879,\n",
       "          0.15976749,  0.14054955,  0.11042104,  0.12661014,  0.10544192,\n",
       "          0.19799772,  0.07004972,  0.18937721,  0.12163123, -0.12437616,\n",
       "         -0.10593532, -0.10477538, -0.05383362, -0.05292923, -0.06760501,\n",
       "         -0.03932439, -0.02692089, -0.06758337, -0.02612387, -0.0566243 ,\n",
       "         -0.03716163, -0.08392888, -0.02151699, -0.06108481, -0.00341057,\n",
       "         -0.05012921, -0.07976456, -0.06309622, -0.05535688, -0.08693929,\n",
       "         -0.08836406, -0.03047346, -0.04882305, -0.03888846, -0.0344738 ,\n",
       "         -0.0294441 ,  0.14340113,  0.18873553,  0.04297038,  0.05706421,\n",
       "          0.11874586]))}"
      ]
     },
     "execution_count": 11,
     "metadata": {},
     "output_type": "execute_result"
    }
   ],
   "source": [
    "logReg.train()"
   ]
  },
  {
   "cell_type": "code",
   "execution_count": null,
   "metadata": {},
   "outputs": [
    {
     "name": "stdout",
     "output_type": "stream",
     "text": [
      "Fold: 0\n"
     ]
    }
   ],
   "source": [
    "logReg.cross_validate(2)"
   ]
  },
  {
   "cell_type": "code",
   "execution_count": null,
   "metadata": {},
   "outputs": [],
   "source": []
  }
 ],
 "metadata": {
  "kernelspec": {
   "display_name": "Python 3",
   "language": "python",
   "name": "python3"
  },
  "language_info": {
   "codemirror_mode": {
    "name": "ipython",
    "version": 3
   },
   "file_extension": ".py",
   "mimetype": "text/x-python",
   "name": "python",
   "nbconvert_exporter": "python",
   "pygments_lexer": "ipython3",
   "version": "3.6.6"
  }
 },
 "nbformat": 4,
 "nbformat_minor": 2
}
