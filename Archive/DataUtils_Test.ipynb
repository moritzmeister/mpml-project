{
 "cells": [
  {
   "cell_type": "code",
   "execution_count": 1,
   "metadata": {},
   "outputs": [],
   "source": [
    "import pyspark\n",
    "import numpy as np\n",
    "import pandas as pd\n",
    "import math\n",
    "from sklearn import preprocessing\n",
    "from DataUtils import DataUtil\n",
    "\n",
    "sc = pyspark.SparkContext('local[*]')"
   ]
  },
  {
   "cell_type": "markdown",
   "metadata": {},
   "source": [
    "Check with sklearn standardizer how the values look like, to see if calculations are correct"
   ]
  },
  {
   "cell_type": "code",
   "execution_count": null,
   "metadata": {},
   "outputs": [],
   "source": [
    "data = pd.read_csv('data/spam.data.txt', delimiter=' ', header=None)\n",
    "mean_std = pd.read_csv('data/mean_std.txt', delimiter=',', header=None)"
   ]
  },
  {
   "cell_type": "code",
   "execution_count": null,
   "metadata": {},
   "outputs": [],
   "source": [
    "y = data.iloc[:,57]\n",
    "X = data.iloc[:,:56]"
   ]
  },
  {
   "cell_type": "code",
   "execution_count": null,
   "metadata": {},
   "outputs": [],
   "source": [
    "mean = mean_std.iloc[:,0].values.astype(float)\n",
    "std = mean_std.iloc[:,1].values.astype(float)"
   ]
  },
  {
   "cell_type": "code",
   "execution_count": null,
   "metadata": {},
   "outputs": [],
   "source": [
    "X_scaled = preprocessing.scale(X) "
   ]
  },
  {
   "cell_type": "code",
   "execution_count": null,
   "metadata": {},
   "outputs": [],
   "source": [
    "X_scaled[0]"
   ]
  },
  {
   "cell_type": "markdown",
   "metadata": {},
   "source": [
    "Check if DataUtil works"
   ]
  },
  {
   "cell_type": "code",
   "execution_count": 2,
   "metadata": {},
   "outputs": [],
   "source": [
    "dataUtil = DataUtil(sc, 'data/spam.data.txt', 'data/mean_std.txt', True)"
   ]
  },
  {
   "cell_type": "code",
   "execution_count": 3,
   "metadata": {},
   "outputs": [],
   "source": [
    "rdd = dataUtil.read(sc)"
   ]
  },
  {
   "cell_type": "code",
   "execution_count": 4,
   "metadata": {},
   "outputs": [
    {
     "data": {
      "text/plain": [
       "(array([-0.34238276,  0.33084612,  0.7127782 , -0.04689292,  0.0115686 ,\n",
       "        -0.35023373, -0.29176885, -0.26252275, -0.32326107, -0.37131646,\n",
       "        -0.29683438,  0.11407682, -0.31201834, -0.174909  , -0.19009813,\n",
       "         0.08615992, -0.32110526,  2.08099864,  0.15088707, -0.16787375,\n",
       "         0.12511659, -0.11815169, -0.29018813, -0.21296991, -0.32878597,\n",
       "        -0.29920177, -0.22786802, -0.23179472, -0.16671161, -0.2252124 ,\n",
       "        -0.16052208, -0.14319455, -0.17490061, -0.14519654, -0.19804231,\n",
       "        -0.2421067 , -0.32341481, -0.05982778, -0.18089355, -0.18528235,\n",
       "        -0.12089424, -0.17258287, -0.20597382, -0.12732885, -0.29773648,\n",
       "        -0.19736149, -0.07138081, -0.11153537, -0.15843841, -0.51424027,\n",
       "        -0.15518786,  0.62394105, -0.3083252 , -0.10303722, -0.04524252,\n",
       "         0.04529222]), 1.0)"
      ]
     },
     "execution_count": 4,
     "metadata": {},
     "output_type": "execute_result"
    }
   ],
   "source": [
    "rdd.first()"
   ]
  },
  {
   "cell_type": "code",
   "execution_count": null,
   "metadata": {},
   "outputs": [],
   "source": []
  }
 ],
 "metadata": {
  "kernelspec": {
   "display_name": "Python 3",
   "language": "python",
   "name": "python3"
  },
  "language_info": {
   "codemirror_mode": {
    "name": "ipython",
    "version": 3
   },
   "file_extension": ".py",
   "mimetype": "text/x-python",
   "name": "python",
   "nbconvert_exporter": "python",
   "pygments_lexer": "ipython3",
   "version": "3.6.6"
  }
 },
 "nbformat": 4,
 "nbformat_minor": 2
}
