{
 "cells": [
  {
   "cell_type": "code",
   "execution_count": 1,
   "metadata": {},
   "outputs": [],
   "source": [
    "from pyspark import SparkContext\n",
    "from pyspark.sql import SparkSession\n",
    "from pyspark.sql.functions import max as max_, min as min_, mean as mean_\n",
    "\n",
    "sc = SparkContext(master = \"local\")\n",
    "spark = SparkSession.builder.master(\"local\").getOrCreate()"
   ]
  },
  {
   "cell_type": "code",
   "execution_count": 2,
   "metadata": {},
   "outputs": [],
   "source": [
    "spam_dataset = sc.textFile(\"./dataset/spam.data.txt\") \\\n",
    "    .map(lambda line: line.split(' ')) \\\n",
    "    .map(lambda line: [float(val) for val in line]) \\\n",
    "    .toDF() \\\n",
    "    .drop(\"_57\")"
   ]
  },
  {
   "cell_type": "code",
   "execution_count": 3,
   "metadata": {},
   "outputs": [
    {
     "name": "stdout",
     "output_type": "stream",
     "text": [
      "+-------+-------------------+-------------------+------------------+\n",
      "|summary|                 _1|                 _2|                _3|\n",
      "+-------+-------------------+-------------------+------------------+\n",
      "|  count|               4601|               4601|              4601|\n",
      "|   mean|0.10455335796565962|0.21301456205172783|0.2806563790480323|\n",
      "| stddev| 0.3053575620234701| 1.2905751909453216|0.5041428838471845|\n",
      "|    min|                0.0|                0.0|               0.0|\n",
      "|    max|               4.54|              14.28|               5.1|\n",
      "+-------+-------------------+-------------------+------------------+\n",
      "\n"
     ]
    }
   ],
   "source": [
    "# Before normalization\n",
    "spam_dataset.select(spam_dataset.columns[:3]).describe().show()"
   ]
  },
  {
   "cell_type": "code",
   "execution_count": 4,
   "metadata": {},
   "outputs": [
    {
     "name": "stdout",
     "output_type": "stream",
     "text": [
      "+-------+--------------------+--------------------+--------------------+\n",
      "|summary|                  _1|                  _2|                  _3|\n",
      "+-------+--------------------+--------------------+--------------------+\n",
      "|  count|                4601|                4601|                4601|\n",
      "|   mean|0.023029374001246664|0.014916986138076233|0.055030662558437915|\n",
      "| stddev| 0.06725937489503736| 0.09037641393174517| 0.09885154585238899|\n",
      "|    min|                 0.0|                 0.0|                 0.0|\n",
      "|    max|                 1.0|                 1.0|                 1.0|\n",
      "+-------+--------------------+--------------------+--------------------+\n",
      "\n"
     ]
    }
   ],
   "source": [
    "# Min-Max Normalization\n",
    "for col in spam_dataset.columns[:len(spam_dataset.columns) - 1]:\n",
    "    stats = spam_dataset.select(max_(col).alias('max'), min_(col).alias('min')).collect()[0]\n",
    "    spam_dataset = spam_dataset.withColumn(col, (spam_dataset[col] - stats['min']) / (stats['max'] - stats['min']))\n",
    "\n",
    "# After normalization\n",
    "spam_dataset.select(spam_dataset.columns[:3]).describe().show()"
   ]
  },
  {
   "cell_type": "code",
   "execution_count": 5,
   "metadata": {},
   "outputs": [
    {
     "name": "stdout",
     "output_type": "stream",
     "text": [
      "Whole dataset: 4601, 57\n",
      "Train dataset: 3642, 57\n",
      "Test dataset: 959, 57\n"
     ]
    }
   ],
   "source": [
    "train, test = spam_dataset.randomSplit(weights=[0.8, 0.2], seed=1)\n",
    "\n",
    "print(\"Whole dataset: {}, {}\".format(spam_dataset.count(), len(spam_dataset.columns)))\n",
    "print(\"Train dataset: {}, {}\".format(train.count(), len(train.columns)))\n",
    "print(\"Test dataset: {}, {}\".format(test.count(), len(test.columns)))"
   ]
  },
  {
   "cell_type": "code",
   "execution_count": 6,
   "metadata": {},
   "outputs": [],
   "source": [
    "X_train = train.select(train.columns[:len(train.columns) - 1])\n",
    "y_train = train.select(train.columns[-1])\n",
    "\n",
    "X_test = test.select(test.columns[:len(test.columns) - 1])\n",
    "y_test = test.select(test.columns[-1])"
   ]
  },
  {
   "cell_type": "code",
   "execution_count": 7,
   "metadata": {},
   "outputs": [
    {
     "name": "stdout",
     "output_type": "stream",
     "text": [
      "+-------+--------------------+--------------------+-------------------+--------------------+\n",
      "|summary|                  _1|                  _2|                 _3|                  _4|\n",
      "+-------+--------------------+--------------------+-------------------+--------------------+\n",
      "|  count|                3642|                3642|               3642|                3642|\n",
      "|   mean|0.023053968991235366|0.015323290216690745|0.05546941456428836|0.001574136822333...|\n",
      "| stddev| 0.06749383039738928| 0.09124493712987924|0.09907445181542128| 0.03254631960542416|\n",
      "|    min|                 0.0|                 0.0|                0.0|                 0.0|\n",
      "|    max|                 1.0|                 1.0|                1.0|  0.9981312777388459|\n",
      "+-------+--------------------+--------------------+-------------------+--------------------+\n",
      "\n",
      "+-------+-------------------+\n",
      "|summary|                _58|\n",
      "+-------+-------------------+\n",
      "|  count|               3642|\n",
      "|   mean|0.39236683141131246|\n",
      "| stddev|0.48834473651764865|\n",
      "|    min|                0.0|\n",
      "|    max|                1.0|\n",
      "+-------+-------------------+\n",
      "\n",
      "+-------+--------------------+--------------------+--------------------+--------------------+\n",
      "|summary|                  _1|                  _2|                  _3|                  _4|\n",
      "+-------+--------------------+--------------------+--------------------+--------------------+\n",
      "|  count|                 959|                 959|                 959|                 959|\n",
      "|   mean|0.022935969461581215|0.013373962723775671|0.053364411458013974|0.001354044193137...|\n",
      "| stddev| 0.06639622767248972| 0.08702810715507353| 0.09803385959175746|0.032768855734558885|\n",
      "|    min|                 0.0|                 0.0|                 0.0|                 0.0|\n",
      "|    max|  0.8810572687224669|                 1.0|  0.8509803921568628|                 1.0|\n",
      "+-------+--------------------+--------------------+--------------------+--------------------+\n",
      "\n",
      "+-------+-------------------+\n",
      "|summary|                _58|\n",
      "+-------+-------------------+\n",
      "|  count|                959|\n",
      "|   mean|0.40041710114702816|\n",
      "| stddev|0.49023856954812306|\n",
      "|    min|                0.0|\n",
      "|    max|                1.0|\n",
      "+-------+-------------------+\n",
      "\n"
     ]
    }
   ],
   "source": [
    "X_train.select(X_train.columns[:4]).describe().show()\n",
    "y_train.describe().show()\n",
    "X_test.select(X_test.columns[:4]).describe().show()\n",
    "y_test.describe().show()"
   ]
  },
  {
   "cell_type": "code",
   "execution_count": 4,
   "metadata": {
    "collapsed": true
   },
   "outputs": [],
   "source": [
    "class LogisticRegression:\n",
    "    def __init__(self, lr=0.01, num_iter=100000, fit_intercept=True, verbose=False):\n",
    "        self.lr = lr\n",
    "        self.num_iter = num_iter\n",
    "        self.fit_intercept = fit_intercept\n",
    "        self.verbose = verbose\n",
    "    \n",
    "    def __add_intercept(self, X):\n",
    "        intercept = np.ones((X.shape[0], 1))\n",
    "        return np.concatenate((intercept, X), axis=1)\n",
    "    \n",
    "    def __sigmoid(self, z):\n",
    "        return 1 / (1 + np.exp(-z))\n",
    "    def __loss(self, h, y):\n",
    "        return (-y * np.log(h) - (1 - y) * np.log(1 - h)).mean()\n",
    "    \n",
    "    def fit(self, X, y):\n",
    "        if self.fit_intercept:\n",
    "            X = self.__add_intercept(X)\n",
    "        \n",
    "        # weights initialization\n",
    "        self.theta = np.zeros(X.shape[1])\n",
    "        \n",
    "        for i in range(self.num_iter):\n",
    "            z = np.dot(X, self.theta)\n",
    "            h = self.__sigmoid(z)\n",
    "            gradient = np.dot(X.T, (h - y)) / y.size\n",
    "            self.theta -= self.lr * gradient\n",
    "            \n",
    "            if(self.verbose == True and i % 10000 == 0):\n",
    "                z = np.dot(X, self.theta)\n",
    "                h = self.__sigmoid(z)\n",
    "                print('loss: {self.__loss(h, y)} \\t')\n",
    "    \n",
    "    def predict_prob(self, X):\n",
    "        if self.fit_intercept:\n",
    "            X = self.__add_intercept(X)\n",
    "    \n",
    "        return self.__sigmoid(np.dot(X, self.theta))\n",
    "    \n",
    "    def predict(self, X, threshold):\n",
    "        return self.predict_prob(X) >= threshold\n"
   ]
  },
  {
   "cell_type": "code",
   "execution_count": 11,
   "metadata": {},
   "outputs": [
    {
     "name": "stderr",
     "output_type": "stream",
     "text": [
      "//anaconda/lib/python3.5/site-packages/ipykernel/__main__.py:13: RuntimeWarning: overflow encountered in exp\n"
     ]
    },
    {
     "name": "stdout",
     "output_type": "stream",
     "text": [
      "CPU times: user 10.9 s, sys: 916 ms, total: 11.8 s\n",
      "Wall time: 8.27 s\n"
     ]
    }
   ],
   "source": [
    "model = LogisticRegression(lr=0.05, num_iter=10000)\n",
    "%time model.fit(X, y)\n",
    "# CPU times: user 13.8 s, sys: 84 ms, total: 13.9 s\n",
    "# Wall time: 13.8 s"
   ]
  },
  {
   "cell_type": "code",
   "execution_count": 18,
   "metadata": {},
   "outputs": [
    {
     "name": "stderr",
     "output_type": "stream",
     "text": [
      "//anaconda/lib/python3.5/site-packages/ipykernel/__main__.py:13: RuntimeWarning: overflow encountered in exp\n"
     ]
    },
    {
     "data": {
      "text/plain": [
       "0.61312758096066078"
      ]
     },
     "execution_count": 18,
     "metadata": {},
     "output_type": "execute_result"
    }
   ],
   "source": [
    "preds = model.predict(X, 0.5)\n",
    "# accuracyf\n",
    "(preds == y).mean()"
   ]
  },
  {
   "cell_type": "code",
   "execution_count": null,
   "metadata": {
    "collapsed": true
   },
   "outputs": [],
   "source": [
    "# TODO\n",
    "# 1) Normalize features\n",
    "# 2) Implement cross validation\n",
    "# 3) Add regularization\n",
    "# 4) "
   ]
  }
 ],
 "metadata": {
  "kernelspec": {
   "display_name": "Python 3",
   "language": "python",
   "name": "python3"
  },
  "language_info": {
   "codemirror_mode": {
    "name": "ipython",
    "version": 3
   },
   "file_extension": ".py",
   "mimetype": "text/x-python",
   "name": "python",
   "nbconvert_exporter": "python",
   "pygments_lexer": "ipython3",
   "version": "3.6.6"
  }
 },
 "nbformat": 4,
 "nbformat_minor": 2
}
